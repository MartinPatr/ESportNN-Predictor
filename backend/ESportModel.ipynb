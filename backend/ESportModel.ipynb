{
 "cells": [
  {
   "cell_type": "code",
   "execution_count": null,
   "id": "e8b93394-40a5-4809-a6db-046af8a660f4",
   "metadata": {},
   "outputs": [],
   "source": [
    "from __future__ import absolute_import, division, print_function, unicode_literals\n",
    "\n",
    "import numpy as np\n",
    "import pandas as pd\n",
    "import matplotlib.pyplot as plt\n",
    "from IPython.display import clear_output\n",
    "from six.moves import urllib\n",
    "\n",
    "import tensorflow.compat.v2.feature_column as fc\n",
    "\n",
    "import tensorflow as tf"
   ]
  },
  {
   "cell_type": "code",
   "execution_count": 3,
   "id": "e79f388d-ef31-4702-8740-c1bce26e7981",
   "metadata": {},
   "outputs": [
    {
     "ename": "NameError",
     "evalue": "name 'tf' is not defined",
     "output_type": "error",
     "traceback": [
      "\u001b[0;31m---------------------------------------------------------------------------\u001b[0m",
      "\u001b[0;31mNameError\u001b[0m                                 Traceback (most recent call last)",
      "Cell \u001b[0;32mIn[3], line 10\u001b[0m\n\u001b[1;32m      8\u001b[0m feature_columns \u001b[38;5;241m=\u001b[39m []\n\u001b[1;32m      9\u001b[0m \u001b[38;5;28;01mfor\u001b[39;00m feature_name \u001b[38;5;129;01min\u001b[39;00m NUMERIC_COLUMNS:\n\u001b[0;32m---> 10\u001b[0m   feature_columns\u001b[38;5;241m.\u001b[39mappend(\u001b[43mtf\u001b[49m\u001b[38;5;241m.\u001b[39mfeature_column\u001b[38;5;241m.\u001b[39mnumeric_column(feature_name, dtype\u001b[38;5;241m=\u001b[39mtf\u001b[38;5;241m.\u001b[39mfloat32))\n\u001b[1;32m     12\u001b[0m \u001b[38;5;28mprint\u001b[39m(feature_columns)\n",
      "\u001b[0;31mNameError\u001b[0m: name 'tf' is not defined"
     ]
    }
   ],
   "source": [
    "NUMERIC_COLUMNS = [\n",
    "    'Champion_1_Number', 'Champion_2_Number', 'Champion_3_Number', 'Champion_4_Number', 'Champion_5_Number',\n",
    "    'Champion_Banned_Number1', 'Champion_Banned_Number2', 'Champion_Banned_Number3', 'Champion_Banned_Number4', 'Champion_Banned_Number5',\n",
    "    'Team_Number', 'Opponent_Team_Number', 'Side_Number',\n",
    "    'opponent_Champion_1_Number', 'opponent_Champion_2_Number', 'opponent_Champion_3_Number', 'opponent_Champion_4_Number', 'opponent_Champion_5_Number',\n",
    "    'opponent_Champion_Banned_Number1', 'opponent_Champion_Banned_Number2', 'opponent_Champion_Banned_Number3', 'opponent_Champion_Banned_Number4', 'opponent_Champion_Banned_Number5'\n",
    "]\n",
    "feature_columns = []\n",
    "for feature_name in NUMERIC_COLUMNS:\n",
    "  feature_columns.append(tf.feature_column.numeric_column(feature_name, dtype=tf.float32))\n",
    "\n",
    "print(feature_columns)\n"
   ]
  },
  {
   "cell_type": "code",
   "execution_count": 4,
   "id": "cee3b5fd-e719-41f6-828b-f5063988ea04",
   "metadata": {},
   "outputs": [
    {
     "ename": "NameError",
     "evalue": "name 'dftrain' is not defined",
     "output_type": "error",
     "traceback": [
      "\u001b[0;31m---------------------------------------------------------------------------\u001b[0m",
      "\u001b[0;31mNameError\u001b[0m                                 Traceback (most recent call last)",
      "Cell \u001b[0;32mIn[4], line 10\u001b[0m\n\u001b[1;32m      7\u001b[0m     \u001b[38;5;28;01mreturn\u001b[39;00m ds  \u001b[38;5;66;03m# return a batch of the dataset\u001b[39;00m\n\u001b[1;32m      8\u001b[0m   \u001b[38;5;28;01mreturn\u001b[39;00m input_function  \u001b[38;5;66;03m# return a function object for use\u001b[39;00m\n\u001b[0;32m---> 10\u001b[0m train_input_fn \u001b[38;5;241m=\u001b[39m make_input_fn(\u001b[43mdftrain\u001b[49m, y_train)  \u001b[38;5;66;03m# here we will call the input_function that was returned to us to get a dataset object we can feed to the model\u001b[39;00m\n\u001b[1;32m     11\u001b[0m eval_input_fn \u001b[38;5;241m=\u001b[39m make_input_fn(dfeval, y_eval, num_epochs\u001b[38;5;241m=\u001b[39m\u001b[38;5;241m1\u001b[39m, shuffle\u001b[38;5;241m=\u001b[39m\u001b[38;5;28;01mFalse\u001b[39;00m)\n\u001b[1;32m     13\u001b[0m linear_est \u001b[38;5;241m=\u001b[39m tf\u001b[38;5;241m.\u001b[39mestimator\u001b[38;5;241m.\u001b[39mLinearClassifier(feature_columns\u001b[38;5;241m=\u001b[39mfeature_columns)\n",
      "\u001b[0;31mNameError\u001b[0m: name 'dftrain' is not defined"
     ]
    }
   ],
   "source": [
    "\n",
    "def make_input_fn(data_df, label_df, num_epochs=10, shuffle=True, batch_size=32):\n",
    "  def input_function():  # inner function, this will be returned\n",
    "    ds = tf.data.Dataset.from_tensor_slices((dict(data_df), label_df))  # create tf.data.Dataset object with data and its label\n",
    "    if shuffle:\n",
    "      ds = ds.shuffle(1000)  # randomize order of data\n",
    "    ds = ds.batch(batch_size).repeat(num_epochs)  # split dataset into batches of 32 and repeat process for number of epochs\n",
    "    return ds  # return a batch of the dataset\n",
    "  return input_function  # return a function object for use\n",
    "\n",
    "train_input_fn = make_input_fn(dftrain, y_train)  # here we will call the input_function that was returned to us to get a dataset object we can feed to the model\n",
    "eval_input_fn = make_input_fn(dfeval, y_eval, num_epochs=1, shuffle=False)\n",
    "\n",
    "linear_est = tf.estimator.LinearClassifier(feature_columns=feature_columns)\n",
    "# We create a linear estimtor by passing the feature columns we created earlier\n",
    "\n",
    "linear_est.train(train_input_fn)  # train\n",
    "result = linear_est.evaluate(eval_input_fn)  # get model metrics/stats by testing on tetsing data\n",
    "\n",
    "clear_output()  # clears consoke output\n",
    "print(result['accuracy'])  # the result variable is simply a dict of stats about our model"
   ]
  }
 ],
 "metadata": {
  "kernelspec": {
   "display_name": "Python 3.11.3 64-bit",
   "language": "python",
   "name": "python3"
  },
  "language_info": {
   "codemirror_mode": {
    "name": "ipython",
    "version": 3
   },
   "file_extension": ".py",
   "mimetype": "text/x-python",
   "name": "python",
   "nbconvert_exporter": "python",
   "pygments_lexer": "ipython3",
   "version": "3.11.3"
  },
  "vscode": {
   "interpreter": {
    "hash": "aee8b7b246df8f9039afb4144a1f6fd8d2ca17a180786b69acc140d282b71a49"
   }
  }
 },
 "nbformat": 4,
 "nbformat_minor": 5
}
